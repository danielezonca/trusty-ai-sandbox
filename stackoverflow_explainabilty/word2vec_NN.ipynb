{
 "cells": [
  {
   "cell_type": "code",
   "execution_count": 1,
   "metadata": {},
   "outputs": [
    {
     "name": "stdout",
     "output_type": "stream",
     "text": [
      "['/home/magupta/anaconda3/envs/stackoverflow_env/RedHat', '/usr/lib64/python37.zip', '/usr/lib64/python3.7', '/usr/lib64/python3.7/lib-dynload', '', '/home/magupta/.local/lib/python3.7/site-packages', '/usr/local/lib64/python3.7/site-packages', '/usr/local/lib/python3.7/site-packages', '/usr/lib64/python3.7/site-packages', '/usr/lib/python3.7/site-packages', '/usr/local/lib/python3.7/site-packages/IPython/extensions', '/home/magupta/.ipython']\n"
     ]
    }
   ],
   "source": [
    "from __future__ import absolute_import\n",
    "import sys\n",
    "print(sys.path)\n",
    "import pandas as pd\n",
    "import numpy as np\n",
    "import tensorflow as tf\n",
    "import tensorflow.keras\n",
    "from tensorflow.keras import backend\n",
    "from tensorflow.keras.preprocessing.text import Tokenizer\n",
    "from tensorflow.keras.preprocessing.sequence import pad_sequences\n",
    "from tensorflow.keras.layers import Input, TimeDistributed, Dense, Lambda, concatenate, Dropout, BatchNormalization\n",
    "from tensorflow.keras.layers import Embedding\n",
    "from sklearn.model_selection import train_test_split\n",
    "from tensorflow.keras.layers import Bidirectional\n",
    "from tensorflow.keras.layers import LSTM\n",
    "from tensorflow.keras.models import Model\n",
    "from sklearn.preprocessing import LabelEncoder\n",
    "import os\n",
    "from tensorflow.keras.layers import LeakyReLU\n",
    "from sklearn.metrics import confusion_matrix\n",
    "from sklearn.metrics import f1_score, accuracy_score , recall_score , precision_score\n",
    "from sklearn.metrics import classification_report\n",
    "from tensorflow.keras.models import Sequential\n",
    "from tensorflow.keras.layers import Dense"
   ]
  },
  {
   "cell_type": "code",
   "execution_count": 2,
   "metadata": {},
   "outputs": [
    {
     "name": "stderr",
     "output_type": "stream",
     "text": [
      "/usr/local/lib64/python3.7/site-packages/numpy/lib/arraysetops.py:569: FutureWarning: elementwise comparison failed; returning scalar instead, but in the future will perform elementwise comparison\n",
      "  mask |= (ar1 == a)\n"
     ]
    },
    {
     "data": {
      "text/plain": [
       "(1264212, 27)"
      ]
     },
     "execution_count": 2,
     "metadata": {},
     "output_type": "execute_result"
    }
   ],
   "source": [
    "df_full=pd.read_csv(\"data_stackOverflow/final_dataframe_with_1tag_onehot.csv\",index_col=0)\n",
    "df_full.shape"
   ]
  },
  {
   "cell_type": "code",
   "execution_count": 3,
   "metadata": {},
   "outputs": [
    {
     "data": {
      "text/plain": [
       "array([16, 20,  4,  5,  0,  7,  3,  2, 17, 10, 11,  6, 15, 13, 18, 19, 12,\n",
       "        1,  9,  8, 14])"
      ]
     },
     "execution_count": 3,
     "metadata": {},
     "output_type": "execute_result"
    }
   ],
   "source": [
    "label_encoder = LabelEncoder() \n",
    "df_full['maintag']= label_encoder.fit_transform(df_full['maintag'].astype(str)) \n",
    "df_full['maintag'].unique() "
   ]
  },
  {
   "cell_type": "code",
   "execution_count": 4,
   "metadata": {},
   "outputs": [
    {
     "data": {
      "text/plain": [
       "array(['.net', 'android', 'asp.net', 'c', 'c#', 'c++', 'css', 'html',\n",
       "       'ios', 'iphone', 'java', 'javascript', 'jquery', 'mysql', 'nan',\n",
       "       'objective-c', 'other', 'php', 'python', 'ruby-on-rails', 'sql'],\n",
       "      dtype=object)"
      ]
     },
     "execution_count": 4,
     "metadata": {},
     "output_type": "execute_result"
    }
   ],
   "source": [
    "label_encoder.classes_"
   ]
  },
  {
   "cell_type": "code",
   "execution_count": 5,
   "metadata": {},
   "outputs": [],
   "source": [
    "score_col = [col for col in df_full if col.startswith('ques_score_')]\n",
    "label_col = [col for col in df_full if col.startswith('tag_')]"
   ]
  },
  {
   "cell_type": "code",
   "execution_count": 6,
   "metadata": {},
   "outputs": [
    {
     "data": {
      "text/plain": [
       "Index(['ques_title', 'ques_body', 'ques_score_bad', 'ques_score_medium',\n",
       "       'ques_score_good', 'tag_.net', 'tag_android', 'tag_asp.net', 'tag_c',\n",
       "       'tag_c#', 'tag_c++', 'tag_css', 'tag_html', 'tag_ios', 'tag_iphone',\n",
       "       'tag_java', 'tag_javascript', 'tag_jquery', 'tag_mysql',\n",
       "       'tag_objective-c', 'tag_other', 'tag_php', 'tag_python',\n",
       "       'tag_ruby-on-rails', 'tag_sql', 'maintag', 'all_tags'],\n",
       "      dtype='object')"
      ]
     },
     "execution_count": 6,
     "metadata": {},
     "output_type": "execute_result"
    }
   ],
   "source": [
    "df_full.columns"
   ]
  },
  {
   "cell_type": "code",
   "execution_count": 7,
   "metadata": {},
   "outputs": [
    {
     "data": {
      "text/plain": [
       "(1264212, 27)"
      ]
     },
     "execution_count": 7,
     "metadata": {},
     "output_type": "execute_result"
    }
   ],
   "source": [
    "df_full.shape"
   ]
  },
  {
   "cell_type": "code",
   "execution_count": 8,
   "metadata": {},
   "outputs": [],
   "source": [
    "df=df_full.sample(n=100000)"
   ]
  },
  {
   "cell_type": "code",
   "execution_count": 9,
   "metadata": {},
   "outputs": [
    {
     "data": {
      "text/html": [
       "<div>\n",
       "<style scoped>\n",
       "    .dataframe tbody tr th:only-of-type {\n",
       "        vertical-align: middle;\n",
       "    }\n",
       "\n",
       "    .dataframe tbody tr th {\n",
       "        vertical-align: top;\n",
       "    }\n",
       "\n",
       "    .dataframe thead th {\n",
       "        text-align: right;\n",
       "    }\n",
       "</style>\n",
       "<table border=\"1\" class=\"dataframe\">\n",
       "  <thead>\n",
       "    <tr style=\"text-align: right;\">\n",
       "      <th></th>\n",
       "      <th>ques_title</th>\n",
       "      <th>ques_body</th>\n",
       "      <th>ques_score_bad</th>\n",
       "      <th>ques_score_medium</th>\n",
       "      <th>ques_score_good</th>\n",
       "      <th>tag_.net</th>\n",
       "      <th>tag_android</th>\n",
       "      <th>tag_asp.net</th>\n",
       "      <th>tag_c</th>\n",
       "      <th>tag_c#</th>\n",
       "      <th>...</th>\n",
       "      <th>tag_jquery</th>\n",
       "      <th>tag_mysql</th>\n",
       "      <th>tag_objective-c</th>\n",
       "      <th>tag_other</th>\n",
       "      <th>tag_php</th>\n",
       "      <th>tag_python</th>\n",
       "      <th>tag_ruby-on-rails</th>\n",
       "      <th>tag_sql</th>\n",
       "      <th>maintag</th>\n",
       "      <th>all_tags</th>\n",
       "    </tr>\n",
       "  </thead>\n",
       "  <tbody>\n",
       "    <tr>\n",
       "      <th>330904</th>\n",
       "      <td>rail select associ model nest form</td>\n",
       "      <td>associ item associ exampl model pre code custo...</td>\n",
       "      <td>1</td>\n",
       "      <td>0</td>\n",
       "      <td>0</td>\n",
       "      <td>0</td>\n",
       "      <td>0</td>\n",
       "      <td>0</td>\n",
       "      <td>0</td>\n",
       "      <td>0</td>\n",
       "      <td>...</td>\n",
       "      <td>0</td>\n",
       "      <td>0</td>\n",
       "      <td>0</td>\n",
       "      <td>0</td>\n",
       "      <td>0</td>\n",
       "      <td>0</td>\n",
       "      <td>1</td>\n",
       "      <td>0</td>\n",
       "      <td>19</td>\n",
       "      <td>ruby-on-rails/other/other/other</td>\n",
       "    </tr>\n",
       "    <tr>\n",
       "      <th>166458</th>\n",
       "      <td>touchesmov self view</td>\n",
       "      <td>i work import project job place problem i stac...</td>\n",
       "      <td>0</td>\n",
       "      <td>0</td>\n",
       "      <td>1</td>\n",
       "      <td>0</td>\n",
       "      <td>0</td>\n",
       "      <td>0</td>\n",
       "      <td>0</td>\n",
       "      <td>0</td>\n",
       "      <td>...</td>\n",
       "      <td>0</td>\n",
       "      <td>0</td>\n",
       "      <td>0</td>\n",
       "      <td>0</td>\n",
       "      <td>0</td>\n",
       "      <td>0</td>\n",
       "      <td>0</td>\n",
       "      <td>0</td>\n",
       "      <td>9</td>\n",
       "      <td>iphone/objective-c/other/other/other</td>\n",
       "    </tr>\n",
       "  </tbody>\n",
       "</table>\n",
       "<p>2 rows × 27 columns</p>\n",
       "</div>"
      ],
      "text/plain": [
       "                                ques_title  \\\n",
       "330904  rail select associ model nest form   \n",
       "166458                touchesmov self view   \n",
       "\n",
       "                                                ques_body  ques_score_bad  \\\n",
       "330904  associ item associ exampl model pre code custo...               1   \n",
       "166458  i work import project job place problem i stac...               0   \n",
       "\n",
       "        ques_score_medium  ques_score_good  tag_.net  tag_android  \\\n",
       "330904                  0                0         0            0   \n",
       "166458                  0                1         0            0   \n",
       "\n",
       "        tag_asp.net  tag_c  tag_c#  ...  tag_jquery  tag_mysql  \\\n",
       "330904            0      0       0  ...           0          0   \n",
       "166458            0      0       0  ...           0          0   \n",
       "\n",
       "        tag_objective-c  tag_other  tag_php  tag_python  tag_ruby-on-rails  \\\n",
       "330904                0          0        0           0                  1   \n",
       "166458                0          0        0           0                  0   \n",
       "\n",
       "        tag_sql  maintag                              all_tags  \n",
       "330904        0       19       ruby-on-rails/other/other/other  \n",
       "166458        0        9  iphone/objective-c/other/other/other  \n",
       "\n",
       "[2 rows x 27 columns]"
      ]
     },
     "execution_count": 9,
     "metadata": {},
     "output_type": "execute_result"
    }
   ],
   "source": [
    "df.head(2)"
   ]
  },
  {
   "cell_type": "code",
   "execution_count": 10,
   "metadata": {},
   "outputs": [],
   "source": [
    "train, val_test = train_test_split(df, test_size=0.2)\n",
    "val,test=train_test_split(val_test, test_size=0.5)"
   ]
  },
  {
   "cell_type": "code",
   "execution_count": 11,
   "metadata": {},
   "outputs": [
    {
     "data": {
      "text/plain": [
       "(5.80565, 21, 1, 136.5811125, 4741, 1)"
      ]
     },
     "execution_count": 11,
     "metadata": {},
     "output_type": "execute_result"
    }
   ],
   "source": [
    "c=train['ques_title'].apply(lambda x: len(str(x).split()))\n",
    "d=train['ques_body'].apply(lambda x: len(str(x).split()))\n",
    "c.mean(),c.max(),c.min(),d.mean(),d.max(),d.min()"
   ]
  },
  {
   "cell_type": "code",
   "execution_count": 12,
   "metadata": {},
   "outputs": [],
   "source": [
    "x_train = train.drop(label_col+['maintag']+['all_tags'],axis=1)\n",
    "x_val = val.drop(label_col+['maintag']+['all_tags'],axis=1)\n",
    "x_test = test.drop(label_col+['maintag']+['all_tags'],axis=1)\n",
    "y_train_onehot = train[label_col]\n",
    "y_test_onehot = test[label_col]\n",
    "y_val_onehot = val[label_col]\n",
    "y_train_multiclass = train['maintag']\n",
    "y_test_multiclass = test['maintag']\n",
    "y_val_multiclass = val['maintag']"
   ]
  },
  {
   "cell_type": "code",
   "execution_count": 13,
   "metadata": {},
   "outputs": [
    {
     "data": {
      "text/plain": [
       "(80000, 20)"
      ]
     },
     "execution_count": 13,
     "metadata": {},
     "output_type": "execute_result"
    }
   ],
   "source": [
    "y_train_onehot.shape"
   ]
  },
  {
   "cell_type": "code",
   "execution_count": 14,
   "metadata": {},
   "outputs": [
    {
     "data": {
      "text/html": [
       "<div>\n",
       "<style scoped>\n",
       "    .dataframe tbody tr th:only-of-type {\n",
       "        vertical-align: middle;\n",
       "    }\n",
       "\n",
       "    .dataframe tbody tr th {\n",
       "        vertical-align: top;\n",
       "    }\n",
       "\n",
       "    .dataframe thead th {\n",
       "        text-align: right;\n",
       "    }\n",
       "</style>\n",
       "<table border=\"1\" class=\"dataframe\">\n",
       "  <thead>\n",
       "    <tr style=\"text-align: right;\">\n",
       "      <th></th>\n",
       "      <th>ques_title</th>\n",
       "      <th>ques_body</th>\n",
       "      <th>ques_score_bad</th>\n",
       "      <th>ques_score_medium</th>\n",
       "      <th>ques_score_good</th>\n",
       "    </tr>\n",
       "  </thead>\n",
       "  <tbody>\n",
       "    <tr>\n",
       "      <th>136572</th>\n",
       "      <td>get backward window cycl cmd shift work emac app</td>\n",
       "      <td>cmd work fine tri cmd shift get messag undefin</td>\n",
       "      <td>0</td>\n",
       "      <td>1</td>\n",
       "      <td>0</td>\n",
       "    </tr>\n",
       "    <tr>\n",
       "      <th>1167204</th>\n",
       "      <td>django updat creat</td>\n",
       "      <td>i model pre code class xyz model model uniqu c...</td>\n",
       "      <td>1</td>\n",
       "      <td>0</td>\n",
       "      <td>0</td>\n",
       "    </tr>\n",
       "  </tbody>\n",
       "</table>\n",
       "</div>"
      ],
      "text/plain": [
       "                                               ques_title  \\\n",
       "136572   get backward window cycl cmd shift work emac app   \n",
       "1167204                                django updat creat   \n",
       "\n",
       "                                                 ques_body  ques_score_bad  \\\n",
       "136572      cmd work fine tri cmd shift get messag undefin               0   \n",
       "1167204  i model pre code class xyz model model uniqu c...               1   \n",
       "\n",
       "         ques_score_medium  ques_score_good  \n",
       "136572                   1                0  \n",
       "1167204                  0                0  "
      ]
     },
     "execution_count": 14,
     "metadata": {},
     "output_type": "execute_result"
    }
   ],
   "source": [
    "x_train.head(2)"
   ]
  },
  {
   "cell_type": "code",
   "execution_count": 15,
   "metadata": {},
   "outputs": [
    {
     "data": {
      "text/html": [
       "<div>\n",
       "<style scoped>\n",
       "    .dataframe tbody tr th:only-of-type {\n",
       "        vertical-align: middle;\n",
       "    }\n",
       "\n",
       "    .dataframe tbody tr th {\n",
       "        vertical-align: top;\n",
       "    }\n",
       "\n",
       "    .dataframe thead th {\n",
       "        text-align: right;\n",
       "    }\n",
       "</style>\n",
       "<table border=\"1\" class=\"dataframe\">\n",
       "  <thead>\n",
       "    <tr style=\"text-align: right;\">\n",
       "      <th></th>\n",
       "      <th>tag_.net</th>\n",
       "      <th>tag_android</th>\n",
       "      <th>tag_asp.net</th>\n",
       "      <th>tag_c</th>\n",
       "      <th>tag_c#</th>\n",
       "      <th>tag_c++</th>\n",
       "      <th>tag_css</th>\n",
       "      <th>tag_html</th>\n",
       "      <th>tag_ios</th>\n",
       "      <th>tag_iphone</th>\n",
       "      <th>tag_java</th>\n",
       "      <th>tag_javascript</th>\n",
       "      <th>tag_jquery</th>\n",
       "      <th>tag_mysql</th>\n",
       "      <th>tag_objective-c</th>\n",
       "      <th>tag_other</th>\n",
       "      <th>tag_php</th>\n",
       "      <th>tag_python</th>\n",
       "      <th>tag_ruby-on-rails</th>\n",
       "      <th>tag_sql</th>\n",
       "    </tr>\n",
       "  </thead>\n",
       "  <tbody>\n",
       "    <tr>\n",
       "      <th>136572</th>\n",
       "      <td>0</td>\n",
       "      <td>0</td>\n",
       "      <td>0</td>\n",
       "      <td>0</td>\n",
       "      <td>0</td>\n",
       "      <td>0</td>\n",
       "      <td>0</td>\n",
       "      <td>0</td>\n",
       "      <td>0</td>\n",
       "      <td>0</td>\n",
       "      <td>0</td>\n",
       "      <td>0</td>\n",
       "      <td>0</td>\n",
       "      <td>0</td>\n",
       "      <td>0</td>\n",
       "      <td>1</td>\n",
       "      <td>0</td>\n",
       "      <td>0</td>\n",
       "      <td>0</td>\n",
       "      <td>0</td>\n",
       "    </tr>\n",
       "    <tr>\n",
       "      <th>1167204</th>\n",
       "      <td>0</td>\n",
       "      <td>0</td>\n",
       "      <td>0</td>\n",
       "      <td>0</td>\n",
       "      <td>0</td>\n",
       "      <td>0</td>\n",
       "      <td>0</td>\n",
       "      <td>0</td>\n",
       "      <td>0</td>\n",
       "      <td>0</td>\n",
       "      <td>0</td>\n",
       "      <td>0</td>\n",
       "      <td>0</td>\n",
       "      <td>0</td>\n",
       "      <td>0</td>\n",
       "      <td>1</td>\n",
       "      <td>0</td>\n",
       "      <td>0</td>\n",
       "      <td>0</td>\n",
       "      <td>0</td>\n",
       "    </tr>\n",
       "  </tbody>\n",
       "</table>\n",
       "</div>"
      ],
      "text/plain": [
       "         tag_.net  tag_android  tag_asp.net  tag_c  tag_c#  tag_c++  tag_css  \\\n",
       "136572          0            0            0      0       0        0        0   \n",
       "1167204         0            0            0      0       0        0        0   \n",
       "\n",
       "         tag_html  tag_ios  tag_iphone  tag_java  tag_javascript  tag_jquery  \\\n",
       "136572          0        0           0         0               0           0   \n",
       "1167204         0        0           0         0               0           0   \n",
       "\n",
       "         tag_mysql  tag_objective-c  tag_other  tag_php  tag_python  \\\n",
       "136572           0                0          1        0           0   \n",
       "1167204          0                0          1        0           0   \n",
       "\n",
       "         tag_ruby-on-rails  tag_sql  \n",
       "136572                   0        0  \n",
       "1167204                  0        0  "
      ]
     },
     "execution_count": 15,
     "metadata": {},
     "output_type": "execute_result"
    }
   ],
   "source": [
    "y_train_onehot.head(2)"
   ]
  },
  {
   "cell_type": "code",
   "execution_count": 16,
   "metadata": {},
   "outputs": [],
   "source": [
    "nb_words = 30000\n",
    "EMBEDDING_DIM = 50\n",
    "MAX_SEQUENCE_LENGTH_1=20\n",
    "MAX_SEQUENCE_LENGTH_2=150\n",
    "DROPOUT = 0.1\n",
    "num_epoch=20"
   ]
  },
  {
   "cell_type": "code",
   "execution_count": 17,
   "metadata": {},
   "outputs": [],
   "source": [
    "tokenizer = Tokenizer(lower=True,num_words=nb_words) \n",
    "tokenizer.fit_on_texts(np.concatenate((x_train.ques_title.astype(str), x_train.ques_body.astype(str)), axis=0))\n",
    "\n",
    "sequences_train_q1 = tokenizer.texts_to_sequences(x_train.ques_title.astype(str))\n",
    "sequences_train_q2 = tokenizer.texts_to_sequences(x_train.ques_body.astype(str))\n",
    "\n",
    "sequences_val_q1 = tokenizer.texts_to_sequences(x_val.ques_title.astype(str))\n",
    "sequences_val_q2 = tokenizer.texts_to_sequences(x_val.ques_body.astype(str))\n",
    "\n",
    "word_index = tokenizer.word_index"
   ]
  },
  {
   "cell_type": "code",
   "execution_count": 18,
   "metadata": {},
   "outputs": [
    {
     "data": {
      "text/plain": [
       "269639"
      ]
     },
     "execution_count": 18,
     "metadata": {},
     "output_type": "execute_result"
    }
   ],
   "source": [
    "len(word_index)"
   ]
  },
  {
   "cell_type": "code",
   "execution_count": 19,
   "metadata": {},
   "outputs": [],
   "source": [
    "sequences_train_q1_padded = pad_sequences(sequences_train_q1, maxlen=MAX_SEQUENCE_LENGTH_1)\n",
    "sequences_train_q2_padded = pad_sequences(sequences_train_q2, maxlen=MAX_SEQUENCE_LENGTH_2)\n",
    "\n",
    "sequences_val_q1_padded = pad_sequences(sequences_val_q1, maxlen=MAX_SEQUENCE_LENGTH_1)\n",
    "sequences_val_q2_padded = pad_sequences(sequences_val_q2, maxlen=MAX_SEQUENCE_LENGTH_2)"
   ]
  },
  {
   "cell_type": "code",
   "execution_count": 22,
   "metadata": {},
   "outputs": [],
   "source": [
    "word_embedding_matrix = np.zeros((nb_words+1, EMBEDDING_DIM))\n",
    "\n",
    "embeddings_index = {}\n",
    "\n",
    "f = open('glove.6B.50d.txt')\n",
    "\n",
    "for line in f:\n",
    "    values = line.split()\n",
    "    word = values[0]       \n",
    "    coefs = np.asarray(values[1:], dtype='float32')\n",
    "    embeddings_index[word] = coefs\n",
    "    \n",
    "f.close()\n",
    "\n",
    "for word, i in word_index.items():\n",
    "    if i >= nb_words:\n",
    "        continue\n",
    "    embedding_vector = embeddings_index.get(word)\n",
    "    if embedding_vector is not None:\n",
    "        word_embedding_matrix[i] = embedding_vector"
   ]
  },
  {
   "cell_type": "code",
   "execution_count": 23,
   "metadata": {},
   "outputs": [],
   "source": [
    "train_features=x_train.drop(['ques_title','ques_body'],axis=1)\n",
    "val_features=x_val.drop(['ques_title','ques_body'],axis=1)\n",
    "test_features=x_test.drop(['ques_title','ques_body'],axis=1)"
   ]
  },
  {
   "cell_type": "code",
   "execution_count": 24,
   "metadata": {},
   "outputs": [
    {
     "data": {
      "text/plain": [
       "((80000, 3), (10000, 3))"
      ]
     },
     "execution_count": 24,
     "metadata": {},
     "output_type": "execute_result"
    }
   ],
   "source": [
    "train_features.shape,val_features.shape"
   ]
  },
  {
   "cell_type": "markdown",
   "metadata": {},
   "source": [
    "Timestamp layer wrapper applies a layer to every temporal slice of an input.\n",
    "The input should be at least 3D, and the dimension of index one will be considered to be the temporal dimension.\n",
    "Consider a batch of 32 samples, where each sample is a sequence of 10 vectors of 16 dimensions. The batch input shape of the layer is then (32, 10, 16), and the input_shape, not including the samples dimension, is (10, 16).\n",
    "You can then use TimeDistributed to apply a Dense layer to each of the 10 timesteps, independently:"
   ]
  },
  {
   "cell_type": "code",
   "execution_count": 25,
   "metadata": {},
   "outputs": [],
   "source": [
    "ques_title = Input(shape=(MAX_SEQUENCE_LENGTH_1,))\n",
    "ques_body = Input(shape=(MAX_SEQUENCE_LENGTH_2,))\n",
    "features  = Input(shape=(train_features.shape[1],))\n",
    "\n",
    "q1 = Embedding(nb_words + 1, \n",
    "                 EMBEDDING_DIM, \n",
    "                 weights=[word_embedding_matrix], \n",
    "                 input_length=MAX_SEQUENCE_LENGTH_1, \n",
    "                 trainable=True)(ques_title)\n",
    "\n",
    "q2 = Embedding(nb_words + 1, \n",
    "                 EMBEDDING_DIM, \n",
    "                 weights=[word_embedding_matrix], \n",
    "                 input_length=MAX_SEQUENCE_LENGTH_2, \n",
    "                 trainable=True)(ques_body)\n",
    "\n",
    "shared_lstm_1=Bidirectional(LSTM(400, return_sequences=True), merge_mode=\"sum\")\n",
    "shared_lstm_2=Bidirectional(LSTM(200), merge_mode=\"sum\")\n",
    "\n",
    "q1 = shared_lstm_1(q1)\n",
    "q1= Dropout(DROPOUT)(q1)\n",
    "q1=shared_lstm_2(q1)\n",
    "\n",
    "q2 = shared_lstm_1(q2)\n",
    "q2= Dropout(DROPOUT)(q2)\n",
    "q2=shared_lstm_2(q2)\n",
    "\n",
    "merged = concatenate([q1,q2,features])\n",
    "\n",
    "merged = Dense(1000)(merged)\n",
    "merged=LeakyReLU(alpha=0.3)(merged)\n",
    "merged = Dropout(DROPOUT)(merged)\n",
    "merged = BatchNormalization()(merged)\n",
    "\n",
    "merged = Dense(500)(merged)\n",
    "merged=LeakyReLU(alpha=0.3)(merged)\n",
    "merged = Dropout(DROPOUT)(merged)\n",
    "merged = BatchNormalization()(merged)\n",
    "\n",
    "merged = Dense(200)(merged)\n",
    "merged=LeakyReLU(alpha=0.3)(merged)\n",
    "merged = Dropout(DROPOUT)(merged)\n",
    "merged = BatchNormalization()(merged)\n",
    "\n",
    "is_true_20 = Dense(20, activation='softmax')(merged)\n",
    "\n",
    "model = Model(inputs=[ques_title,ques_body,features], outputs=[is_true_20])\n",
    "model.compile(loss='categorical_crossentropy', optimizer='adam', metrics=['acc'])"
   ]
  },
  {
   "cell_type": "code",
   "execution_count": 26,
   "metadata": {
    "scrolled": false
   },
   "outputs": [
    {
     "name": "stdout",
     "output_type": "stream",
     "text": [
      "Model: \"model\"\n",
      "__________________________________________________________________________________________________\n",
      "Layer (type)                    Output Shape         Param #     Connected to                     \n",
      "==================================================================================================\n",
      "input_1 (InputLayer)            [(None, 20)]         0                                            \n",
      "__________________________________________________________________________________________________\n",
      "input_2 (InputLayer)            [(None, 150)]        0                                            \n",
      "__________________________________________________________________________________________________\n",
      "embedding (Embedding)           (None, 20, 50)       1500050     input_1[0][0]                    \n",
      "__________________________________________________________________________________________________\n",
      "embedding_1 (Embedding)         (None, 150, 50)      1500050     input_2[0][0]                    \n",
      "__________________________________________________________________________________________________\n",
      "bidirectional (Bidirectional)   multiple             1443200     embedding[0][0]                  \n",
      "                                                                 embedding_1[0][0]                \n",
      "__________________________________________________________________________________________________\n",
      "dropout (Dropout)               (None, 20, 400)      0           bidirectional[0][0]              \n",
      "__________________________________________________________________________________________________\n",
      "dropout_1 (Dropout)             (None, 150, 400)     0           bidirectional[1][0]              \n",
      "__________________________________________________________________________________________________\n",
      "bidirectional_1 (Bidirectional) (None, 200)          961600      dropout[0][0]                    \n",
      "                                                                 dropout_1[0][0]                  \n",
      "__________________________________________________________________________________________________\n",
      "input_3 (InputLayer)            [(None, 3)]          0                                            \n",
      "__________________________________________________________________________________________________\n",
      "concatenate (Concatenate)       (None, 403)          0           bidirectional_1[0][0]            \n",
      "                                                                 bidirectional_1[1][0]            \n",
      "                                                                 input_3[0][0]                    \n",
      "__________________________________________________________________________________________________\n",
      "dense (Dense)                   (None, 1000)         404000      concatenate[0][0]                \n",
      "__________________________________________________________________________________________________\n",
      "leaky_re_lu (LeakyReLU)         (None, 1000)         0           dense[0][0]                      \n",
      "__________________________________________________________________________________________________\n",
      "dropout_2 (Dropout)             (None, 1000)         0           leaky_re_lu[0][0]                \n",
      "__________________________________________________________________________________________________\n",
      "batch_normalization (BatchNorma (None, 1000)         4000        dropout_2[0][0]                  \n",
      "__________________________________________________________________________________________________\n",
      "dense_1 (Dense)                 (None, 500)          500500      batch_normalization[0][0]        \n",
      "__________________________________________________________________________________________________\n",
      "leaky_re_lu_1 (LeakyReLU)       (None, 500)          0           dense_1[0][0]                    \n",
      "__________________________________________________________________________________________________\n",
      "dropout_3 (Dropout)             (None, 500)          0           leaky_re_lu_1[0][0]              \n",
      "__________________________________________________________________________________________________\n",
      "batch_normalization_1 (BatchNor (None, 500)          2000        dropout_3[0][0]                  \n",
      "__________________________________________________________________________________________________\n",
      "dense_2 (Dense)                 (None, 200)          100200      batch_normalization_1[0][0]      \n",
      "__________________________________________________________________________________________________\n",
      "leaky_re_lu_2 (LeakyReLU)       (None, 200)          0           dense_2[0][0]                    \n",
      "__________________________________________________________________________________________________\n",
      "dropout_4 (Dropout)             (None, 200)          0           leaky_re_lu_2[0][0]              \n",
      "__________________________________________________________________________________________________\n",
      "batch_normalization_2 (BatchNor (None, 200)          800         dropout_4[0][0]                  \n",
      "__________________________________________________________________________________________________\n",
      "dense_3 (Dense)                 (None, 20)           4020        batch_normalization_2[0][0]      \n",
      "==================================================================================================\n",
      "Total params: 6,420,420\n",
      "Trainable params: 6,417,020\n",
      "Non-trainable params: 3,400\n",
      "__________________________________________________________________________________________________\n"
     ]
    }
   ],
   "source": [
    "model.summary()"
   ]
  },
  {
   "cell_type": "code",
   "execution_count": 27,
   "metadata": {},
   "outputs": [
    {
     "name": "stdout",
     "output_type": "stream",
     "text": [
      "Train on 80000 samples, validate on 10000 samples\n",
      "Epoch 1/10\n",
      "80000/80000 [==============================] - 1751s 22ms/sample - loss: 1.8262 - acc: 0.4644 - val_loss: 1.3596 - val_acc: 0.5762\n",
      "Epoch 2/10\n",
      "80000/80000 [==============================] - 1737s 22ms/sample - loss: 1.1595 - acc: 0.6145 - val_loss: 1.2997 - val_acc: 0.5863\n",
      "Epoch 3/10\n",
      "80000/80000 [==============================] - 1779s 22ms/sample - loss: 0.9576 - acc: 0.6687 - val_loss: 1.0537 - val_acc: 0.6439\n",
      "Epoch 4/10\n",
      "80000/80000 [==============================] - 1947s 24ms/sample - loss: 0.8284 - acc: 0.7077 - val_loss: 1.0967 - val_acc: 0.6486\n",
      "Epoch 5/10\n",
      "80000/80000 [==============================] - 1839s 23ms/sample - loss: 0.7309 - acc: 0.7401 - val_loss: 1.0692 - val_acc: 0.6483\n",
      "Epoch 6/10\n",
      "80000/80000 [==============================] - 1873s 23ms/sample - loss: 0.6522 - acc: 0.7682 - val_loss: 1.1242 - val_acc: 0.6415\n",
      "Epoch 7/10\n",
      "80000/80000 [==============================] - 1866s 23ms/sample - loss: 0.5719 - acc: 0.7961 - val_loss: 1.1721 - val_acc: 0.6489\n",
      "Epoch 8/10\n",
      "80000/80000 [==============================] - 1854s 23ms/sample - loss: 0.4989 - acc: 0.8225 - val_loss: 1.2716 - val_acc: 0.6351\n",
      "Epoch 9/10\n",
      "80000/80000 [==============================] - 1725s 22ms/sample - loss: 0.4297 - acc: 0.8485 - val_loss: 1.4043 - val_acc: 0.6290\n",
      "Epoch 10/10\n",
      "80000/80000 [==============================] - 1724s 22ms/sample - loss: 0.3664 - acc: 0.8720 - val_loss: 1.4576 - val_acc: 0.6305\n"
     ]
    }
   ],
   "source": [
    "history=model.fit([sequences_train_q1_padded,sequences_train_q2_padded,x_train[score_col]], y_train_onehot, batch_size=64, epochs=10,validation_data=([sequences_val_q1_padded,sequences_val_q2_padded, x_val[score_col]],y_val_onehot))"
   ]
  },
  {
   "cell_type": "code",
   "execution_count": 28,
   "metadata": {},
   "outputs": [
    {
     "name": "stdout",
     "output_type": "stream",
     "text": [
      "dict_keys(['loss', 'acc', 'val_loss', 'val_acc'])\n"
     ]
    },
    {
     "data": {
      "image/png": "[encoded data removed]",
      "text/plain": [
       "<Figure size 432x288 with 1 Axes>"
      ]
     },
     "metadata": {
      "needs_background": "light"
     },
     "output_type": "display_data"
    },
    {
     "data": {
      "image/png": "[encoded data removed]",
      "text/plain": [
       "<Figure size 432x288 with 1 Axes>"
      ]
     },
     "metadata": {
      "needs_background": "light"
     },
     "output_type": "display_data"
    }
   ],
   "source": [
    "import matplotlib.pyplot as plt\n",
    "print(history.history.keys())\n",
    "# summarize history for accuracy\n",
    "plt.plot(history.history['acc'])\n",
    "plt.plot(history.history['val_acc'])\n",
    "plt.title('model accuracy')\n",
    "plt.ylabel('accuracy')\n",
    "plt.xlabel('epoch')\n",
    "plt.legend(['train', 'test'], loc='upper left')\n",
    "plt.show()\n",
    "# summarize history for loss\n",
    "plt.plot(history.history['loss'])\n",
    "plt.plot(history.history['val_loss'])\n",
    "plt.title('model loss')\n",
    "plt.ylabel('loss')\n",
    "plt.xlabel('epoch')\n",
    "plt.legend(['train', 'test'], loc='upper left')\n",
    "plt.show()"
   ]
  },
  {
   "cell_type": "code",
   "execution_count": 30,
   "metadata": {},
   "outputs": [],
   "source": [
    "sequences_test_data_q1 = tokenizer.texts_to_sequences(x_test.ques_title.astype(str))\n",
    "sequences_test_data_q2 = tokenizer.texts_to_sequences(x_test.ques_body.astype(str))\n",
    "sequences_test_data_q1_padded = pad_sequences(sequences_test_data_q1, maxlen=MAX_SEQUENCE_LENGTH_1)\n",
    "sequences_test_data_q2_padded = pad_sequences(sequences_test_data_q2, maxlen=MAX_SEQUENCE_LENGTH_2)"
   ]
  },
  {
   "cell_type": "code",
   "execution_count": 32,
   "metadata": {},
   "outputs": [],
   "source": [
    "y_pred_multiclass = model.predict([sequences_test_data_q1_padded, sequences_test_data_q2_padded,test_features])"
   ]
  },
  {
   "cell_type": "code",
   "execution_count": 33,
   "metadata": {},
   "outputs": [
    {
     "data": {
      "text/plain": [
       "array([[3.9749897e-09, 2.7190433e-06, 5.9435514e-09, ..., 9.9269205e-01,\n",
       "        2.3494060e-05, 5.2619043e-07],\n",
       "       [2.7188618e-04, 1.2672310e-06, 1.0931223e-05, ..., 8.8604320e-06,\n",
       "        6.9272046e-09, 1.1333194e-05],\n",
       "       [2.2515417e-07, 1.0305396e-06, 1.2762313e-06, ..., 5.0657154e-06,\n",
       "        1.2917703e-04, 1.0207879e-05],\n",
       "       ...,\n",
       "       [7.1750937e-06, 1.6534458e-04, 1.2422693e-07, ..., 6.0076032e-05,\n",
       "        8.0828919e-08, 1.2326767e-04],\n",
       "       [4.3628611e-06, 2.3041633e-03, 9.0246649e-06, ..., 2.1145288e-03,\n",
       "        3.9639042e-04, 8.3027629e-04],\n",
       "       [1.7111513e-06, 5.8346387e-07, 1.5446674e-06, ..., 3.6001304e-05,\n",
       "        2.2558075e-04, 2.5052580e-03]], dtype=float32)"
      ]
     },
     "execution_count": 33,
     "metadata": {},
     "output_type": "execute_result"
    }
   ],
   "source": [
    "y_pred_multiclass"
   ]
  },
  {
   "cell_type": "code",
   "execution_count": 34,
   "metadata": {},
   "outputs": [],
   "source": [
    "indices_multiclass = y_pred_multiclass.argmax(axis=1)"
   ]
  },
  {
   "cell_type": "code",
   "execution_count": 35,
   "metadata": {},
   "outputs": [
    {
     "name": "stdout",
     "output_type": "stream",
     "text": [
      "              precision    recall  f1-score   support\n",
      "\n",
      "           0       0.27      0.30      0.29        70\n",
      "           1       0.73      0.77      0.75       575\n",
      "           2       0.50      0.27      0.35       129\n",
      "           3       0.52      0.55      0.53       141\n",
      "           4       0.62      0.53      0.57       816\n",
      "           5       0.71      0.57      0.63       352\n",
      "           6       0.30      0.16      0.21        89\n",
      "           7       0.36      0.36      0.36       148\n",
      "           8       0.56      0.50      0.53       271\n",
      "           9       0.42      0.31      0.36       142\n",
      "          10       0.68      0.62      0.65       903\n",
      "          11       0.60      0.65      0.63       964\n",
      "          12       0.51      0.38      0.43       252\n",
      "          13       0.53      0.51      0.52       138\n",
      "          14       0.00      0.00      0.00         1\n",
      "          15       0.00      0.22      0.01        81\n",
      "          16       0.20      0.04      0.07      3405\n",
      "          17       0.00      0.00      0.00       686\n",
      "          18       0.00      0.00      0.00       501\n",
      "          19       0.01      0.01      0.01       162\n",
      "          20       0.00      0.00      0.00       174\n",
      "\n",
      "    accuracy                           0.30     10000\n",
      "   macro avg       0.36      0.32      0.33     10000\n",
      "weighted avg       0.37      0.30      0.31     10000\n",
      "\n"
     ]
    },
    {
     "name": "stderr",
     "output_type": "stream",
     "text": [
      "/usr/local/lib64/python3.7/site-packages/sklearn/metrics/_classification.py:1272: UndefinedMetricWarning: Precision and F-score are ill-defined and being set to 0.0 in labels with no predicted samples. Use `zero_division` parameter to control this behavior.\n",
      "  _warn_prf(average, modifier, msg_start, len(result))\n"
     ]
    }
   ],
   "source": [
    "report_multiclass=classification_report(y_test_multiclass, indices_multiclass)\n",
    "print(report_multiclass)"
   ]
  },
  {
   "cell_type": "code",
   "execution_count": 36,
   "metadata": {},
   "outputs": [],
   "source": [
    "model.save('multiclass_model_lstm.h5')"
   ]
  },
  {
   "cell_type": "code",
   "execution_count": null,
   "metadata": {},
   "outputs": [],
   "source": []
  }
 ],
 "metadata": {
  "kernelspec": {
   "display_name": "Python 2",
   "language": "python",
   "name": "python2"
  },
  "language_info": {
   "codemirror_mode": {
    "name": "ipython",
    "version": 3
   },
   "file_extension": ".py",
   "mimetype": "text/x-python",
   "name": "python",
   "nbconvert_exporter": "python",
   "pygments_lexer": "ipython3",
   "version": "3.7.6"
  }
 },
 "nbformat": 4,
 "nbformat_minor": 4
}
