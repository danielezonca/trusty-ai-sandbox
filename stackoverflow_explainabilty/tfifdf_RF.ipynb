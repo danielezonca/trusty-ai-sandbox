{
 "cells": [
  {
   "cell_type": "code",
   "execution_count": 1,
   "metadata": {
    "scrolled": true
   },
   "outputs": [
    {
     "name": "stdout",
     "output_type": "stream",
     "text": [
      "['', '/home/magupta/anaconda3/envs/stackoverflow_env/lib/python36.zip', '/home/magupta/anaconda3/envs/stackoverflow_env/lib/python3.6', '/home/magupta/anaconda3/envs/stackoverflow_env/lib/python3.6/lib-dynload', '/home/magupta/anaconda3/envs/stackoverflow_env/lib/python3.6/site-packages', '/home/magupta/anaconda3/envs/stackoverflow_env/lib/python3.6/site-packages/PDPbox-0.2.0+13.g73c6966-py3.6.egg', '/home/magupta/anaconda3/envs/stackoverflow_env/lib/python3.6/site-packages/joblib-0.15.1-py3.6.egg', '/home/magupta/anaconda3/envs/stackoverflow_env/lib/python3.6/site-packages/IPython/extensions', '/home/magupta/.ipython']\n"
     ]
    }
   ],
   "source": [
    "import pandas as pd\n",
    "import numpy as np\n",
    "import sys\n",
    "print(sys.path)\n",
    "import sklearn\n",
    "from sklearn.model_selection import train_test_split\n",
    "from sklearn.feature_extraction.text import CountVectorizer\n",
    "from sklearn.feature_extraction.text import TfidfTransformer\n",
    "from sklearn.feature_extraction.text import TfidfVectorizer\n",
    "import matplotlib.pyplot as plt\n",
    "from sklearn.ensemble import RandomForestClassifier\n",
    "from sklearn.metrics import mean_squared_error\n",
    "from math import sqrt\n",
    "from sklearn.metrics import f1_score, accuracy_score , recall_score , precision_score\n",
    "from sklearn.metrics import confusion_matrix\n",
    "from sklearn.model_selection import cross_val_score, GridSearchCV\n",
    "from sklearn.preprocessing import LabelEncoder\n",
    "from numpy import argmax\n",
    "from sklearn.metrics import classification_report\n",
    "from sklearn.model_selection import StratifiedShuffleSplit\n",
    "from collections import Counter\n",
    "from sklearn.metrics import confusion_matrix\n",
    "import os\n",
    "from tensorflow.keras import backend\n",
    "from sklearn import preprocessing\n",
    "from sklearn.ensemble import RandomForestClassifier\n",
    "os.environ['KMP_DUPLICATE_LIB_OK']='True'\n",
    "from xgboost import XGBClassifier\n",
    "import math\n",
    "import pickle\n",
    "#from sklearn.inspection import partial_dependence"
   ]
  },
  {
   "cell_type": "code",
   "execution_count": 2,
   "metadata": {},
   "outputs": [
    {
     "name": "stderr",
     "output_type": "stream",
     "text": [
      "/home/magupta/anaconda3/envs/stackoverflow_env/lib/python3.6/site-packages/numpy/lib/arraysetops.py:463: FutureWarning: elementwise comparison failed; returning scalar instead, but in the future will perform elementwise comparison\n",
      "  mask |= (ar1 == a)\n"
     ]
    },
    {
     "data": {
      "text/plain": [
       "(1264212, 27)"
      ]
     },
     "execution_count": 2,
     "metadata": {},
     "output_type": "execute_result"
    }
   ],
   "source": [
    "df_full=pd.read_csv(\"data_stackOverflow/final_dataframe_with_1tag_onehot.csv\",index_col=0)\n",
    "df_full.shape"
   ]
  },
  {
   "cell_type": "code",
   "execution_count": 3,
   "metadata": {},
   "outputs": [],
   "source": [
    "label_col = [col for col in df_full if col.startswith('tag_')]"
   ]
  },
  {
   "cell_type": "code",
   "execution_count": 4,
   "metadata": {
    "scrolled": true
   },
   "outputs": [
    {
     "data": {
      "text/html": [
       "<div>\n",
       "<style>\n",
       "    .dataframe thead tr:only-child th {\n",
       "        text-align: right;\n",
       "    }\n",
       "\n",
       "    .dataframe thead th {\n",
       "        text-align: left;\n",
       "    }\n",
       "\n",
       "    .dataframe tbody tr th {\n",
       "        vertical-align: top;\n",
       "    }\n",
       "</style>\n",
       "<table border=\"1\" class=\"dataframe\">\n",
       "  <thead>\n",
       "    <tr style=\"text-align: right;\">\n",
       "      <th></th>\n",
       "      <th>ques_title</th>\n",
       "      <th>ques_body</th>\n",
       "      <th>ques_score_bad</th>\n",
       "      <th>ques_score_medium</th>\n",
       "      <th>ques_score_good</th>\n",
       "      <th>tag_.net</th>\n",
       "      <th>tag_android</th>\n",
       "      <th>tag_asp.net</th>\n",
       "      <th>tag_c</th>\n",
       "      <th>tag_c#</th>\n",
       "      <th>...</th>\n",
       "      <th>tag_jquery</th>\n",
       "      <th>tag_mysql</th>\n",
       "      <th>tag_objective-c</th>\n",
       "      <th>tag_other</th>\n",
       "      <th>tag_php</th>\n",
       "      <th>tag_python</th>\n",
       "      <th>tag_ruby-on-rails</th>\n",
       "      <th>tag_sql</th>\n",
       "      <th>maintag</th>\n",
       "      <th>all_tags</th>\n",
       "    </tr>\n",
       "  </thead>\n",
       "  <tbody>\n",
       "    <tr>\n",
       "      <th>0</th>\n",
       "      <td>sqlstatement execut multipl queri one statement</td>\n",
       "      <td>i written databas generat script href http en ...</td>\n",
       "      <td>0</td>\n",
       "      <td>0</td>\n",
       "      <td>1</td>\n",
       "      <td>0</td>\n",
       "      <td>0</td>\n",
       "      <td>0</td>\n",
       "      <td>0</td>\n",
       "      <td>0</td>\n",
       "      <td>...</td>\n",
       "      <td>0</td>\n",
       "      <td>0</td>\n",
       "      <td>0</td>\n",
       "      <td>1</td>\n",
       "      <td>0</td>\n",
       "      <td>0</td>\n",
       "      <td>0</td>\n",
       "      <td>0</td>\n",
       "      <td>other</td>\n",
       "      <td>other/other/other</td>\n",
       "    </tr>\n",
       "    <tr>\n",
       "      <th>1</th>\n",
       "      <td>good branch merg tutori tortoisesvn</td>\n",
       "      <td>realli good tutori explain href http svnbook r...</td>\n",
       "      <td>0</td>\n",
       "      <td>0</td>\n",
       "      <td>1</td>\n",
       "      <td>0</td>\n",
       "      <td>0</td>\n",
       "      <td>0</td>\n",
       "      <td>0</td>\n",
       "      <td>0</td>\n",
       "      <td>...</td>\n",
       "      <td>0</td>\n",
       "      <td>0</td>\n",
       "      <td>0</td>\n",
       "      <td>1</td>\n",
       "      <td>0</td>\n",
       "      <td>0</td>\n",
       "      <td>0</td>\n",
       "      <td>0</td>\n",
       "      <td>other</td>\n",
       "      <td>other/other/other/other</td>\n",
       "    </tr>\n",
       "  </tbody>\n",
       "</table>\n",
       "<p>2 rows × 27 columns</p>\n",
       "</div>"
      ],
      "text/plain": [
       "                                        ques_title  \\\n",
       "0  sqlstatement execut multipl queri one statement   \n",
       "1              good branch merg tutori tortoisesvn   \n",
       "\n",
       "                                           ques_body  ques_score_bad  \\\n",
       "0  i written databas generat script href http en ...               0   \n",
       "1  realli good tutori explain href http svnbook r...               0   \n",
       "\n",
       "   ques_score_medium  ques_score_good  tag_.net  tag_android  tag_asp.net  \\\n",
       "0                  0                1         0            0            0   \n",
       "1                  0                1         0            0            0   \n",
       "\n",
       "   tag_c  tag_c#           ...             tag_jquery  tag_mysql  \\\n",
       "0      0       0           ...                      0          0   \n",
       "1      0       0           ...                      0          0   \n",
       "\n",
       "   tag_objective-c  tag_other  tag_php  tag_python  tag_ruby-on-rails  \\\n",
       "0                0          1        0           0                  0   \n",
       "1                0          1        0           0                  0   \n",
       "\n",
       "   tag_sql  maintag                 all_tags  \n",
       "0        0    other        other/other/other  \n",
       "1        0    other  other/other/other/other  \n",
       "\n",
       "[2 rows x 27 columns]"
      ]
     },
     "execution_count": 4,
     "metadata": {},
     "output_type": "execute_result"
    }
   ],
   "source": [
    "df_full.head(2)"
   ]
  },
  {
   "cell_type": "code",
   "execution_count": 5,
   "metadata": {},
   "outputs": [
    {
     "data": {
      "text/plain": [
       "other            424440\n",
       "javascript       118826\n",
       "java             114208\n",
       "c#               100192\n",
       "php               92015\n",
       "android           71962\n",
       "python            62622\n",
       "c++               45318\n",
       "ios               36617\n",
       "jquery            31429\n",
       "ruby-on-rails     22556\n",
       "html              22276\n",
       "sql               22094\n",
       "mysql             20254\n",
       "c                 18987\n",
       "iphone            17165\n",
       "asp.net           13329\n",
       "css               11288\n",
       "objective-c       10055\n",
       ".net               8546\n",
       "Name: maintag, dtype: int64"
      ]
     },
     "execution_count": 5,
     "metadata": {},
     "output_type": "execute_result"
    }
   ],
   "source": [
    "df_full[\"maintag\"].value_counts()"
   ]
  },
  {
   "cell_type": "code",
   "execution_count": 6,
   "metadata": {},
   "outputs": [
    {
     "data": {
      "text/html": [
       "<div>\n",
       "<style>\n",
       "    .dataframe thead tr:only-child th {\n",
       "        text-align: right;\n",
       "    }\n",
       "\n",
       "    .dataframe thead th {\n",
       "        text-align: left;\n",
       "    }\n",
       "\n",
       "    .dataframe tbody tr th {\n",
       "        vertical-align: top;\n",
       "    }\n",
       "</style>\n",
       "<table border=\"1\" class=\"dataframe\">\n",
       "  <thead>\n",
       "    <tr style=\"text-align: right;\">\n",
       "      <th></th>\n",
       "      <th>ques_title</th>\n",
       "      <th>ques_body</th>\n",
       "      <th>ques_score_bad</th>\n",
       "      <th>ques_score_medium</th>\n",
       "      <th>ques_score_good</th>\n",
       "      <th>tag_.net</th>\n",
       "      <th>tag_android</th>\n",
       "      <th>tag_asp.net</th>\n",
       "      <th>tag_c</th>\n",
       "      <th>tag_c#</th>\n",
       "      <th>...</th>\n",
       "      <th>tag_jquery</th>\n",
       "      <th>tag_mysql</th>\n",
       "      <th>tag_objective-c</th>\n",
       "      <th>tag_other</th>\n",
       "      <th>tag_php</th>\n",
       "      <th>tag_python</th>\n",
       "      <th>tag_ruby-on-rails</th>\n",
       "      <th>tag_sql</th>\n",
       "      <th>maintag</th>\n",
       "      <th>all_tags</th>\n",
       "    </tr>\n",
       "  </thead>\n",
       "  <tbody>\n",
       "    <tr>\n",
       "      <th>33127</th>\n",
       "      <td>jsp portlet submit form valu</td>\n",
       "      <td>use liferay portal x deploy simpl portlet use ...</td>\n",
       "      <td>0</td>\n",
       "      <td>1</td>\n",
       "      <td>0</td>\n",
       "      <td>0</td>\n",
       "      <td>0</td>\n",
       "      <td>0</td>\n",
       "      <td>0</td>\n",
       "      <td>0</td>\n",
       "      <td>...</td>\n",
       "      <td>0</td>\n",
       "      <td>0</td>\n",
       "      <td>0</td>\n",
       "      <td>0</td>\n",
       "      <td>0</td>\n",
       "      <td>0</td>\n",
       "      <td>0</td>\n",
       "      <td>0</td>\n",
       "      <td>NaN</td>\n",
       "      <td>nan/other/other/other</td>\n",
       "    </tr>\n",
       "    <tr>\n",
       "      <th>154359</th>\n",
       "      <td>sitecor context item null postback</td>\n",
       "      <td>inherit sitecor implement tri debug membership...</td>\n",
       "      <td>0</td>\n",
       "      <td>0</td>\n",
       "      <td>1</td>\n",
       "      <td>0</td>\n",
       "      <td>0</td>\n",
       "      <td>0</td>\n",
       "      <td>0</td>\n",
       "      <td>0</td>\n",
       "      <td>...</td>\n",
       "      <td>0</td>\n",
       "      <td>0</td>\n",
       "      <td>0</td>\n",
       "      <td>0</td>\n",
       "      <td>0</td>\n",
       "      <td>0</td>\n",
       "      <td>0</td>\n",
       "      <td>0</td>\n",
       "      <td>NaN</td>\n",
       "      <td>nan/other/other/other</td>\n",
       "    </tr>\n",
       "  </tbody>\n",
       "</table>\n",
       "<p>2 rows × 27 columns</p>\n",
       "</div>"
      ],
      "text/plain": [
       "                                ques_title  \\\n",
       "33127         jsp portlet submit form valu   \n",
       "154359  sitecor context item null postback   \n",
       "\n",
       "                                                ques_body  ques_score_bad  \\\n",
       "33127   use liferay portal x deploy simpl portlet use ...               0   \n",
       "154359  inherit sitecor implement tri debug membership...               0   \n",
       "\n",
       "        ques_score_medium  ques_score_good  tag_.net  tag_android  \\\n",
       "33127                   1                0         0            0   \n",
       "154359                  0                1         0            0   \n",
       "\n",
       "        tag_asp.net  tag_c  tag_c#          ...            tag_jquery  \\\n",
       "33127             0      0       0          ...                     0   \n",
       "154359            0      0       0          ...                     0   \n",
       "\n",
       "        tag_mysql  tag_objective-c  tag_other  tag_php  tag_python  \\\n",
       "33127           0                0          0        0           0   \n",
       "154359          0                0          0        0           0   \n",
       "\n",
       "        tag_ruby-on-rails  tag_sql  maintag               all_tags  \n",
       "33127                   0        0      NaN  nan/other/other/other  \n",
       "154359                  0        0      NaN  nan/other/other/other  \n",
       "\n",
       "[2 rows x 27 columns]"
      ]
     },
     "execution_count": 6,
     "metadata": {},
     "output_type": "execute_result"
    }
   ],
   "source": [
    "df_full.iloc[df_full['all_tags'].values==\"nan/other/other/other\"].head(2)"
   ]
  },
  {
   "cell_type": "code",
   "execution_count": 7,
   "metadata": {},
   "outputs": [
    {
     "data": {
      "text/plain": [
       "(5.79542197036573, 22, 1, 136.90592954346263, 8469, 1)"
      ]
     },
     "execution_count": 7,
     "metadata": {},
     "output_type": "execute_result"
    }
   ],
   "source": [
    "c=df_full['ques_title'].apply(lambda x: len(str(x).split()))\n",
    "d=df_full['ques_body'].apply(lambda x: len(str(x).split()))\n",
    "c.mean(),c.max(),c.min(),d.mean(),d.max(),d.min()"
   ]
  },
  {
   "cell_type": "code",
   "execution_count": 8,
   "metadata": {},
   "outputs": [],
   "source": [
    "df_full['text']=df_full['ques_title']+df_full['ques_body']\n",
    "df_full.drop(['ques_title','ques_body'],inplace=True,axis=1)"
   ]
  },
  {
   "cell_type": "code",
   "execution_count": 9,
   "metadata": {},
   "outputs": [
    {
     "data": {
      "text/plain": [
       "(1264179, 26)"
      ]
     },
     "execution_count": 9,
     "metadata": {},
     "output_type": "execute_result"
    }
   ],
   "source": [
    "df_full = df_full[df_full.maintag.notnull()]\n",
    "df_full.shape"
   ]
  },
  {
   "cell_type": "code",
   "execution_count": 10,
   "metadata": {},
   "outputs": [
    {
     "data": {
      "text/plain": [
       "array([15, 19,  4,  5,  0,  7,  3,  2, 16, 10, 11,  6, 14, 13, 17, 18, 12,\n",
       "        1,  9,  8])"
      ]
     },
     "execution_count": 10,
     "metadata": {},
     "output_type": "execute_result"
    }
   ],
   "source": [
    "label_encoder = LabelEncoder() \n",
    "df_full['maintag']= label_encoder.fit_transform(df_full['maintag'].astype(str)) \n",
    "df_full['maintag'].unique() "
   ]
  },
  {
   "cell_type": "code",
   "execution_count": 11,
   "metadata": {},
   "outputs": [
    {
     "data": {
      "text/plain": [
       "array(['.net', 'android', 'asp.net', 'c', 'c#', 'c++', 'css', 'html',\n",
       "       'ios', 'iphone', 'java', 'javascript', 'jquery', 'mysql',\n",
       "       'objective-c', 'other', 'php', 'python', 'ruby-on-rails', 'sql'], dtype=object)"
      ]
     },
     "execution_count": 11,
     "metadata": {},
     "output_type": "execute_result"
    }
   ],
   "source": [
    "label_encoder.classes_"
   ]
  },
  {
   "cell_type": "code",
   "execution_count": 12,
   "metadata": {
    "scrolled": true
   },
   "outputs": [
    {
     "data": {
      "text/plain": [
       "{'.net': 0,\n",
       " 'android': 1,\n",
       " 'asp.net': 2,\n",
       " 'c': 3,\n",
       " 'c#': 4,\n",
       " 'c++': 5,\n",
       " 'css': 6,\n",
       " 'html': 7,\n",
       " 'ios': 8,\n",
       " 'iphone': 9,\n",
       " 'java': 10,\n",
       " 'javascript': 11,\n",
       " 'jquery': 12,\n",
       " 'mysql': 13,\n",
       " 'objective-c': 14,\n",
       " 'other': 15,\n",
       " 'php': 16,\n",
       " 'python': 17,\n",
       " 'ruby-on-rails': 18,\n",
       " 'sql': 19}"
      ]
     },
     "execution_count": 12,
     "metadata": {},
     "output_type": "execute_result"
    }
   ],
   "source": [
    "le_name_mapping = dict(zip(label_encoder.classes_, label_encoder.transform(label_encoder.classes_)))\n",
    "le_name_mapping"
   ]
  },
  {
   "cell_type": "code",
   "execution_count": 13,
   "metadata": {
    "scrolled": true
   },
   "outputs": [
    {
     "data": {
      "text/html": [
       "<div>\n",
       "<style>\n",
       "    .dataframe thead tr:only-child th {\n",
       "        text-align: right;\n",
       "    }\n",
       "\n",
       "    .dataframe thead th {\n",
       "        text-align: left;\n",
       "    }\n",
       "\n",
       "    .dataframe tbody tr th {\n",
       "        vertical-align: top;\n",
       "    }\n",
       "</style>\n",
       "<table border=\"1\" class=\"dataframe\">\n",
       "  <thead>\n",
       "    <tr style=\"text-align: right;\">\n",
       "      <th></th>\n",
       "      <th>ques_score_bad</th>\n",
       "      <th>ques_score_medium</th>\n",
       "      <th>ques_score_good</th>\n",
       "      <th>tag_.net</th>\n",
       "      <th>tag_android</th>\n",
       "      <th>tag_asp.net</th>\n",
       "      <th>tag_c</th>\n",
       "      <th>tag_c#</th>\n",
       "      <th>tag_c++</th>\n",
       "      <th>tag_css</th>\n",
       "      <th>...</th>\n",
       "      <th>tag_mysql</th>\n",
       "      <th>tag_objective-c</th>\n",
       "      <th>tag_other</th>\n",
       "      <th>tag_php</th>\n",
       "      <th>tag_python</th>\n",
       "      <th>tag_ruby-on-rails</th>\n",
       "      <th>tag_sql</th>\n",
       "      <th>maintag</th>\n",
       "      <th>all_tags</th>\n",
       "      <th>text</th>\n",
       "    </tr>\n",
       "  </thead>\n",
       "  <tbody>\n",
       "    <tr>\n",
       "      <th>0</th>\n",
       "      <td>0</td>\n",
       "      <td>0</td>\n",
       "      <td>1</td>\n",
       "      <td>0</td>\n",
       "      <td>0</td>\n",
       "      <td>0</td>\n",
       "      <td>0</td>\n",
       "      <td>0</td>\n",
       "      <td>0</td>\n",
       "      <td>0</td>\n",
       "      <td>...</td>\n",
       "      <td>0</td>\n",
       "      <td>0</td>\n",
       "      <td>1</td>\n",
       "      <td>0</td>\n",
       "      <td>0</td>\n",
       "      <td>0</td>\n",
       "      <td>0</td>\n",
       "      <td>15</td>\n",
       "      <td>other/other/other</td>\n",
       "      <td>sqlstatement execut multipl queri one statemen...</td>\n",
       "    </tr>\n",
       "    <tr>\n",
       "      <th>1</th>\n",
       "      <td>0</td>\n",
       "      <td>0</td>\n",
       "      <td>1</td>\n",
       "      <td>0</td>\n",
       "      <td>0</td>\n",
       "      <td>0</td>\n",
       "      <td>0</td>\n",
       "      <td>0</td>\n",
       "      <td>0</td>\n",
       "      <td>0</td>\n",
       "      <td>...</td>\n",
       "      <td>0</td>\n",
       "      <td>0</td>\n",
       "      <td>1</td>\n",
       "      <td>0</td>\n",
       "      <td>0</td>\n",
       "      <td>0</td>\n",
       "      <td>0</td>\n",
       "      <td>15</td>\n",
       "      <td>other/other/other/other</td>\n",
       "      <td>good branch merg tutori tortoisesvnrealli good...</td>\n",
       "    </tr>\n",
       "  </tbody>\n",
       "</table>\n",
       "<p>2 rows × 26 columns</p>\n",
       "</div>"
      ],
      "text/plain": [
       "   ques_score_bad  ques_score_medium  ques_score_good  tag_.net  tag_android  \\\n",
       "0               0                  0                1         0            0   \n",
       "1               0                  0                1         0            0   \n",
       "\n",
       "   tag_asp.net  tag_c  tag_c#  tag_c++  tag_css  \\\n",
       "0            0      0       0        0        0   \n",
       "1            0      0       0        0        0   \n",
       "\n",
       "                         ...                          tag_mysql  \\\n",
       "0                        ...                                  0   \n",
       "1                        ...                                  0   \n",
       "\n",
       "   tag_objective-c  tag_other  tag_php  tag_python  tag_ruby-on-rails  \\\n",
       "0                0          1        0           0                  0   \n",
       "1                0          1        0           0                  0   \n",
       "\n",
       "   tag_sql  maintag                 all_tags  \\\n",
       "0        0       15        other/other/other   \n",
       "1        0       15  other/other/other/other   \n",
       "\n",
       "                                                text  \n",
       "0  sqlstatement execut multipl queri one statemen...  \n",
       "1  good branch merg tutori tortoisesvnrealli good...  \n",
       "\n",
       "[2 rows x 26 columns]"
      ]
     },
     "execution_count": 13,
     "metadata": {},
     "output_type": "execute_result"
    }
   ],
   "source": [
    "df_full.head(2)"
   ]
  },
  {
   "cell_type": "code",
   "execution_count": 14,
   "metadata": {},
   "outputs": [],
   "source": [
    "score_col = [col for col in df_full if col.startswith('ques_score_')]"
   ]
  },
  {
   "cell_type": "markdown",
   "metadata": {},
   "source": [
    "# Applying tfidf"
   ]
  },
  {
   "cell_type": "code",
   "execution_count": 15,
   "metadata": {},
   "outputs": [],
   "source": [
    "def tf_idf(df,flag,tfidf_text):\n",
    "    if (flag=='train'):\n",
    "        xyz = tfidf_text.fit_transform(df['text'].values.astype('U')).toarray().tolist()\n",
    "    else:\n",
    "        xyz = tfidf_text.transform(df['text'].values.astype('U')).toarray().tolist()\n",
    "        \n",
    "    return xyz"
   ]
  },
  {
   "cell_type": "markdown",
   "metadata": {},
   "source": [
    "# Taking 5k samples from every class present in original dataframe"
   ]
  },
  {
   "cell_type": "code",
   "execution_count": null,
   "metadata": {},
   "outputs": [],
   "source": [
    "sample_size=5000\n",
    "df_equal_samples=pd.DataFrame(df_full.groupby('maintag').apply(lambda x: x.sample(sample_size)))"
   ]
  },
  {
   "cell_type": "code",
   "execution_count": null,
   "metadata": {},
   "outputs": [],
   "source": [
    "equal_train, equal_val_test = train_test_split(df_equal_samples, test_size=0.2)\n",
    "equal_val,equal_test=train_test_split(equal_val_test, test_size=0.5)"
   ]
  },
  {
   "cell_type": "code",
   "execution_count": null,
   "metadata": {},
   "outputs": [],
   "source": [
    "df_equal_samples.shape,equal_train.shape,equal_val.shape,equal_test.shape"
   ]
  },
  {
   "cell_type": "code",
   "execution_count": null,
   "metadata": {},
   "outputs": [],
   "source": [
    "equal_x_train = equal_train.drop(['all_tags','maintag'],axis=1)\n",
    "equal_x_val = equal_val.drop(['all_tags','maintag'],axis=1)\n",
    "equal_x_test = equal_test.drop(['all_tags','maintag'],axis=1)\n",
    "equal_y_train=equal_train['maintag']\n",
    "equal_y_val=equal_val['maintag']\n",
    "equal_y_test=equal_test['maintag']"
   ]
  },
  {
   "cell_type": "code",
   "execution_count": null,
   "metadata": {},
   "outputs": [],
   "source": [
    "equal_x_train.shape,equal_y_train.shape,equal_x_val.shape,equal_y_val.shape,equal_x_test.shape,equal_y_test.shape"
   ]
  },
  {
   "cell_type": "code",
   "execution_count": null,
   "metadata": {},
   "outputs": [],
   "source": [
    "equal_x_train.columns"
   ]
  },
  {
   "cell_type": "code",
   "execution_count": null,
   "metadata": {},
   "outputs": [],
   "source": [
    "equal_tfidf_text = TfidfVectorizer(lowercase=True,ngram_range=(1,3),max_features=300) # max_df=0.9, min_df=0.1\n",
    "\n",
    "equal_train_tfidf = pd.DataFrame(tf_idf(equal_x_train,'train',equal_tfidf_text ))\n",
    "equal_val_tfidf= pd.DataFrame(tf_idf(equal_x_val,'val',equal_tfidf_text ))\n",
    "equal_test_tfidf=  pd.DataFrame(tf_idf(equal_x_test,'test',equal_tfidf_text ))\n",
    "\n",
    "equal_train_features = pd.DataFrame(np.hstack([equal_train_tfidf, equal_x_train[score_col]]))\n",
    "equal_val_features= pd.DataFrame(np.hstack([equal_val_tfidf, equal_x_val[score_col]]))\n",
    "equal_test_features=  pd.DataFrame(np.hstack([equal_test_tfidf, equal_x_test[score_col]]))"
   ]
  },
  {
   "cell_type": "code",
   "execution_count": null,
   "metadata": {
    "scrolled": true
   },
   "outputs": [],
   "source": [
    "equal_tfidf_text.vocabulary_,len(equal_tfidf_text.vocabulary_)"
   ]
  },
  {
   "cell_type": "code",
   "execution_count": null,
   "metadata": {},
   "outputs": [],
   "source": [
    "print(equal_train_tfidf.shape,equal_val_tfidf.shape,equal_test_tfidf.shape)\n",
    "print(equal_train_features.shape,equal_val_features.shape,equal_test_features.shape)"
   ]
  },
  {
   "cell_type": "code",
   "execution_count": null,
   "metadata": {},
   "outputs": [],
   "source": [
    "equal_text_feature_names = np.array(equal_tfidf_text.get_feature_names())"
   ]
  },
  {
   "cell_type": "markdown",
   "metadata": {},
   "source": [
    "# Applying random Forest"
   ]
  },
  {
   "cell_type": "code",
   "execution_count": null,
   "metadata": {},
   "outputs": [],
   "source": [
    "model_1 = RandomForestClassifier(n_estimators=200, oob_score='TRUE', n_jobs=-1, random_state=50, max_features=\"auto\",min_samples_leaf=1)\n",
    "model_1.fit(equal_train_features, equal_y_train)\n",
    "equal_y_pred = model_1.predict(equal_test_features)"
   ]
  },
  {
   "cell_type": "code",
   "execution_count": null,
   "metadata": {},
   "outputs": [],
   "source": [
    "print(\"accuracy of Random Forest:\",accuracy_score(equal_y_pred,equal_y_test))"
   ]
  },
  {
   "cell_type": "code",
   "execution_count": null,
   "metadata": {
    "scrolled": true
   },
   "outputs": [],
   "source": [
    "conf_mat = confusion_matrix(equal_y_test, equal_y_pred)\n",
    "print(conf_mat)"
   ]
  },
  {
   "cell_type": "code",
   "execution_count": null,
   "metadata": {
    "scrolled": true
   },
   "outputs": [],
   "source": [
    "report=classification_report(equal_y_test, equal_y_pred)\n",
    "print(report)"
   ]
  },
  {
   "cell_type": "markdown",
   "metadata": {},
   "source": [
    "# Taking Random 100k samples from original dataframe thus having stratified split."
   ]
  },
  {
   "cell_type": "code",
   "execution_count": 16,
   "metadata": {
    "scrolled": true
   },
   "outputs": [
    {
     "data": {
      "text/plain": [
       "15    33661\n",
       "11     9351\n",
       "10     9110\n",
       "4      7937\n",
       "16     7119\n",
       "1      5661\n",
       "17     4898\n",
       "5      3578\n",
       "8      2912\n",
       "12     2508\n",
       "18     1874\n",
       "19     1735\n",
       "7      1697\n",
       "13     1652\n",
       "3      1470\n",
       "9      1410\n",
       "2       995\n",
       "6       896\n",
       "14      833\n",
       "0       703\n",
       "Name: maintag, dtype: int64"
      ]
     },
     "execution_count": 16,
     "metadata": {},
     "output_type": "execute_result"
    }
   ],
   "source": [
    "df=df_full.sample(n=100000)\n",
    "df['maintag'].value_counts()"
   ]
  },
  {
   "cell_type": "code",
   "execution_count": 17,
   "metadata": {},
   "outputs": [],
   "source": [
    "df.to_csv(\"sample_data.csv\")"
   ]
  },
  {
   "cell_type": "code",
   "execution_count": 18,
   "metadata": {},
   "outputs": [],
   "source": [
    "train, val_test = train_test_split(df, test_size=0.2)\n",
    "val,test=train_test_split(val_test, test_size=0.5)"
   ]
  },
  {
   "cell_type": "code",
   "execution_count": 19,
   "metadata": {},
   "outputs": [
    {
     "data": {
      "text/plain": [
       "((100000, 26), (80000, 26), (10000, 26), (10000, 26))"
      ]
     },
     "execution_count": 19,
     "metadata": {},
     "output_type": "execute_result"
    }
   ],
   "source": [
    "df.shape,train.shape,val.shape,test.shape"
   ]
  },
  {
   "cell_type": "code",
   "execution_count": 20,
   "metadata": {},
   "outputs": [
    {
     "data": {
      "text/plain": [
       "Index(['ques_score_bad', 'ques_score_medium', 'ques_score_good', 'tag_.net',\n",
       "       'tag_android', 'tag_asp.net', 'tag_c', 'tag_c#', 'tag_c++', 'tag_css',\n",
       "       'tag_html', 'tag_ios', 'tag_iphone', 'tag_java', 'tag_javascript',\n",
       "       'tag_jquery', 'tag_mysql', 'tag_objective-c', 'tag_other', 'tag_php',\n",
       "       'tag_python', 'tag_ruby-on-rails', 'tag_sql', 'maintag', 'all_tags',\n",
       "       'text'],\n",
       "      dtype='object')"
      ]
     },
     "execution_count": 20,
     "metadata": {},
     "output_type": "execute_result"
    }
   ],
   "source": [
    "df.columns"
   ]
  },
  {
   "cell_type": "code",
   "execution_count": 21,
   "metadata": {},
   "outputs": [],
   "source": [
    "x_train = train.drop(label_col+['all_tags','maintag'],axis=1)\n",
    "x_val = val.drop(label_col+['all_tags','maintag'],axis=1)\n",
    "x_test = test.drop(label_col+['all_tags','maintag'],axis=1)\n",
    "y_train_onehot = train[label_col]\n",
    "y_test_onehot = test[label_col]\n",
    "y_val_onehot = val[label_col]\n",
    "y_train=train['maintag']\n",
    "y_val=val['maintag']\n",
    "y_test=test['maintag']"
   ]
  },
  {
   "cell_type": "code",
   "execution_count": 22,
   "metadata": {},
   "outputs": [
    {
     "data": {
      "text/plain": [
       "((80000, 4), (80000,), (10000, 4), (10000,), (10000, 4), (10000,), (10000, 20))"
      ]
     },
     "execution_count": 22,
     "metadata": {},
     "output_type": "execute_result"
    }
   ],
   "source": [
    "x_train.shape,y_train.shape,x_val.shape,y_val.shape,x_test.shape,y_test.shape,y_val_onehot.shape"
   ]
  },
  {
   "cell_type": "code",
   "execution_count": 23,
   "metadata": {},
   "outputs": [],
   "source": [
    "tfidf_text = TfidfVectorizer(lowercase=True,ngram_range=(1,3),max_features=500) # max_df=0.9, min_df=0.1\n",
    "\n",
    "train_tfidf = pd.DataFrame(tf_idf(x_train,'train',tfidf_text))\n",
    "val_tfidf= pd.DataFrame(tf_idf(x_val,'val',tfidf_text))\n",
    "test_tfidf=  pd.DataFrame(tf_idf(x_test,'test',tfidf_text))\n",
    "\n",
    "train_features = pd.DataFrame(np.hstack([train_tfidf, x_train[score_col]]))\n",
    "val_features= pd.DataFrame(np.hstack([val_tfidf, x_val[score_col]]))\n",
    "test_features=  pd.DataFrame(np.hstack([test_tfidf, x_test[score_col]]))"
   ]
  },
  {
   "cell_type": "code",
   "execution_count": 61,
   "metadata": {
    "scrolled": true
   },
   "outputs": [
    {
     "data": {
      "text/plain": [
       "500"
      ]
     },
     "execution_count": 61,
     "metadata": {},
     "output_type": "execute_result"
    }
   ],
   "source": [
    "len(tfidf_text.vocabulary_)"
   ]
  },
  {
   "cell_type": "code",
   "execution_count": 25,
   "metadata": {},
   "outputs": [
    {
     "name": "stdout",
     "output_type": "stream",
     "text": [
      "(80000, 500) (10000, 500) (10000, 500)\n",
      "(80000, 503) (10000, 503) (10000, 503)\n"
     ]
    }
   ],
   "source": [
    "print(train_tfidf.shape,val_tfidf.shape,test_tfidf.shape)\n",
    "print(train_features.shape,val_features.shape,test_features.shape)"
   ]
  },
  {
   "cell_type": "code",
   "execution_count": 26,
   "metadata": {},
   "outputs": [],
   "source": [
    "text_feature_names = np.array(tfidf_text.get_feature_names())"
   ]
  },
  {
   "cell_type": "code",
   "execution_count": 27,
   "metadata": {},
   "outputs": [],
   "source": [
    "model_2 = RandomForestClassifier(n_estimators=100, oob_score='TRUE', n_jobs=-1, random_state=50, max_features=\"auto\",min_samples_leaf=1)\n",
    "model_2.fit(train_features, y_train)\n",
    "y_pred = model_2.predict(test_features)"
   ]
  },
  {
   "cell_type": "code",
   "execution_count": 28,
   "metadata": {},
   "outputs": [
    {
     "name": "stdout",
     "output_type": "stream",
     "text": [
      "accuracy of Random Forest: 0.6022\n"
     ]
    }
   ],
   "source": [
    "print(\"accuracy of Random Forest:\",accuracy_score(y_pred,y_test))"
   ]
  },
  {
   "cell_type": "code",
   "execution_count": 29,
   "metadata": {
    "scrolled": true
   },
   "outputs": [
    {
     "name": "stdout",
     "output_type": "stream",
     "text": [
      "[[   3    0    1    0   12    0    0    1    0    0    3    2    0    0\n",
      "     0   61    0    1    0    0]\n",
      " [   0  422    0    0    7    0    0    2    0    0   29    4    0    0\n",
      "     0   91    4    2    0    0]\n",
      " [   0    0   14    0   20    0    0    0    0    0    2    7    1    0\n",
      "     0   59    0    0    0    1]\n",
      " [   0    0    0   56    2    9    0    0    0    0    1    0    0    0\n",
      "     0   67    0    2    0    0]\n",
      " [   0    7   14    0  328    6    0    1    4    0   20   19    0    3\n",
      "     0  422    6    2    0    1]\n",
      " [   0    0    0   19    5  185    0    0    1    0    7    0    0    0\n",
      "     0  156    0    2    0    0]\n",
      " [   0    1    0    0    0    0   20   30    0    0    1   12    0    0\n",
      "     0   36    0    0    0    0]\n",
      " [   0    2    0    0    0    0   16   62    0    0    1   19    2    0\n",
      "     0   63    8    0    0    0]\n",
      " [   0    1    0    1    0    0    1    1  142    2    0    0    0    0\n",
      "     1  135    1    1    0    0]\n",
      " [   0    0    0    0    1    0    1    0   33    1    0    1    0    0\n",
      "     0   94    0    0    0    0]\n",
      " [   0   86    0    0   33    0    0    0    1    0  511   17    0    0\n",
      "     0  218   10    0    1    0]\n",
      " [   0    4    0    0    4    0    2    7    1    0    5  629   47    0\n",
      "     0  236   38    3    0    0]\n",
      " [   0    0    0    0    3    0    3    3    0    0    0  147   58    0\n",
      "     0   26    9    0    0    0]\n",
      " [   0    0    0    0    0    0    0    0    0    0    2    0    0   81\n",
      "     0   44    5    0    2   19]\n",
      " [   0    0    0    1    3    3    0    0   29    0    1    0    0    0\n",
      "     1   54    2    0    0    0]\n",
      " [   0   32    5    4   94   19    1    9   37    0  139  148    8   16\n",
      "     1 2653  117   82    7   16]\n",
      " [   0    2    0    1    0    0    1    3    1    0    4   36    0   20\n",
      "     0  147  456    0    0    1]\n",
      " [   0    0    0    0    0    0    0    0    0    0    1    6    0    1\n",
      "     0  143    1  299    0    0]\n",
      " [   0    0    0    0    0    0    0    1    0    0    0    7    1    0\n",
      "     0  120    0    0   61    1]\n",
      " [   0    0    0    0    2    0    0    0    0    0    2    0    0    4\n",
      "     0  117    0    0    0   40]]\n"
     ]
    }
   ],
   "source": [
    "conf_mat = confusion_matrix(y_test, y_pred)\n",
    "print(conf_mat)"
   ]
  },
  {
   "cell_type": "code",
   "execution_count": 30,
   "metadata": {
    "scrolled": true
   },
   "outputs": [
    {
     "name": "stdout",
     "output_type": "stream",
     "text": [
      "             precision    recall  f1-score   support\n",
      "\n",
      "          0       1.00      0.04      0.07        84\n",
      "          1       0.76      0.75      0.75       561\n",
      "          2       0.41      0.13      0.20       104\n",
      "          3       0.68      0.41      0.51       137\n",
      "          4       0.64      0.39      0.49       833\n",
      "          5       0.83      0.49      0.62       375\n",
      "          6       0.44      0.20      0.28       100\n",
      "          7       0.52      0.36      0.42       173\n",
      "          8       0.57      0.50      0.53       286\n",
      "          9       0.33      0.01      0.01       131\n",
      "         10       0.70      0.58      0.64       877\n",
      "         11       0.60      0.64      0.62       976\n",
      "         12       0.50      0.23      0.32       249\n",
      "         13       0.65      0.53      0.58       153\n",
      "         14       0.33      0.01      0.02        94\n",
      "         15       0.54      0.78      0.64      3388\n",
      "         16       0.69      0.68      0.69       672\n",
      "         17       0.76      0.66      0.71       451\n",
      "         18       0.86      0.32      0.47       191\n",
      "         19       0.51      0.24      0.33       165\n",
      "\n",
      "avg / total       0.62      0.60      0.58     10000\n",
      "\n"
     ]
    }
   ],
   "source": [
    "report=classification_report(y_test, y_pred)\n",
    "print(report)"
   ]
  },
  {
   "cell_type": "code",
   "execution_count": 32,
   "metadata": {},
   "outputs": [],
   "source": [
    "data = np.array(train_features.values)"
   ]
  },
  {
   "cell_type": "code",
   "execution_count": 34,
   "metadata": {},
   "outputs": [
    {
     "data": {
      "text/plain": [
       "((80000, 20), (80000, 503), (80000,))"
      ]
     },
     "execution_count": 34,
     "metadata": {},
     "output_type": "execute_result"
    }
   ],
   "source": [
    "y_train_onehot.shape,train_features.shape,y_train.shape"
   ]
  },
  {
   "cell_type": "code",
   "execution_count": 35,
   "metadata": {},
   "outputs": [],
   "source": [
    "train_features=train_features.reset_index()\n",
    "y_train_onehot=y_train_onehot.reset_index()\n",
    "y_train=y_train.reset_index()\n",
    "test_features=test_features.reset_index()\n",
    "y_test_onehot=y_test_onehot.reset_index()\n",
    "y_test=y_test.reset_index()"
   ]
  },
  {
   "cell_type": "code",
   "execution_count": 38,
   "metadata": {},
   "outputs": [],
   "source": [
    "dataframe_train=pd.concat([train_features,y_train_onehot,y_train], axis=1)#,ignore_index=False)\n",
    "dataframe_test=pd.concat([test_features,y_test_onehot,y_test], axis=1)"
   ]
  },
  {
   "cell_type": "code",
   "execution_count": 44,
   "metadata": {
    "scrolled": true
   },
   "outputs": [],
   "source": [
    "dataframe_train.drop(['index'],axis=1,inplace=True)\n",
    "dataframe_test.drop(['index'],axis=1,inplace=True)"
   ]
  },
  {
   "cell_type": "code",
   "execution_count": 62,
   "metadata": {
    "scrolled": true
   },
   "outputs": [
    {
     "data": {
      "text/html": [
       "<div>\n",
       "<style>\n",
       "    .dataframe thead tr:only-child th {\n",
       "        text-align: right;\n",
       "    }\n",
       "\n",
       "    .dataframe thead th {\n",
       "        text-align: left;\n",
       "    }\n",
       "\n",
       "    .dataframe tbody tr th {\n",
       "        vertical-align: top;\n",
       "    }\n",
       "</style>\n",
       "<table border=\"1\" class=\"dataframe\">\n",
       "  <thead>\n",
       "    <tr style=\"text-align: right;\">\n",
       "      <th></th>\n",
       "      <th>0</th>\n",
       "      <th>1</th>\n",
       "      <th>2</th>\n",
       "      <th>3</th>\n",
       "      <th>4</th>\n",
       "      <th>5</th>\n",
       "      <th>6</th>\n",
       "      <th>7</th>\n",
       "      <th>8</th>\n",
       "      <th>9</th>\n",
       "      <th>...</th>\n",
       "      <th>tag_javascript</th>\n",
       "      <th>tag_jquery</th>\n",
       "      <th>tag_mysql</th>\n",
       "      <th>tag_objective-c</th>\n",
       "      <th>tag_other</th>\n",
       "      <th>tag_php</th>\n",
       "      <th>tag_python</th>\n",
       "      <th>tag_ruby-on-rails</th>\n",
       "      <th>tag_sql</th>\n",
       "      <th>maintag</th>\n",
       "    </tr>\n",
       "  </thead>\n",
       "  <tbody>\n",
       "    <tr>\n",
       "      <th>0</th>\n",
       "      <td>0.0</td>\n",
       "      <td>0.000000</td>\n",
       "      <td>0.000000</td>\n",
       "      <td>0.0</td>\n",
       "      <td>0.0</td>\n",
       "      <td>0.0</td>\n",
       "      <td>0.0</td>\n",
       "      <td>0.0</td>\n",
       "      <td>0.0</td>\n",
       "      <td>0.0</td>\n",
       "      <td>...</td>\n",
       "      <td>0</td>\n",
       "      <td>0</td>\n",
       "      <td>0</td>\n",
       "      <td>0</td>\n",
       "      <td>0</td>\n",
       "      <td>0</td>\n",
       "      <td>0</td>\n",
       "      <td>0</td>\n",
       "      <td>0</td>\n",
       "      <td>5</td>\n",
       "    </tr>\n",
       "    <tr>\n",
       "      <th>1</th>\n",
       "      <td>0.0</td>\n",
       "      <td>0.000000</td>\n",
       "      <td>0.000000</td>\n",
       "      <td>0.0</td>\n",
       "      <td>0.0</td>\n",
       "      <td>0.0</td>\n",
       "      <td>0.0</td>\n",
       "      <td>0.0</td>\n",
       "      <td>0.0</td>\n",
       "      <td>0.0</td>\n",
       "      <td>...</td>\n",
       "      <td>0</td>\n",
       "      <td>0</td>\n",
       "      <td>0</td>\n",
       "      <td>0</td>\n",
       "      <td>0</td>\n",
       "      <td>0</td>\n",
       "      <td>0</td>\n",
       "      <td>0</td>\n",
       "      <td>1</td>\n",
       "      <td>19</td>\n",
       "    </tr>\n",
       "    <tr>\n",
       "      <th>2</th>\n",
       "      <td>0.0</td>\n",
       "      <td>0.137815</td>\n",
       "      <td>0.042591</td>\n",
       "      <td>0.0</td>\n",
       "      <td>0.0</td>\n",
       "      <td>0.0</td>\n",
       "      <td>0.0</td>\n",
       "      <td>0.0</td>\n",
       "      <td>0.0</td>\n",
       "      <td>0.0</td>\n",
       "      <td>...</td>\n",
       "      <td>0</td>\n",
       "      <td>0</td>\n",
       "      <td>0</td>\n",
       "      <td>0</td>\n",
       "      <td>0</td>\n",
       "      <td>0</td>\n",
       "      <td>0</td>\n",
       "      <td>1</td>\n",
       "      <td>0</td>\n",
       "      <td>18</td>\n",
       "    </tr>\n",
       "    <tr>\n",
       "      <th>3</th>\n",
       "      <td>0.0</td>\n",
       "      <td>0.141130</td>\n",
       "      <td>0.000000</td>\n",
       "      <td>0.0</td>\n",
       "      <td>0.0</td>\n",
       "      <td>0.0</td>\n",
       "      <td>0.0</td>\n",
       "      <td>0.0</td>\n",
       "      <td>0.0</td>\n",
       "      <td>0.0</td>\n",
       "      <td>...</td>\n",
       "      <td>0</td>\n",
       "      <td>0</td>\n",
       "      <td>0</td>\n",
       "      <td>0</td>\n",
       "      <td>0</td>\n",
       "      <td>1</td>\n",
       "      <td>0</td>\n",
       "      <td>0</td>\n",
       "      <td>0</td>\n",
       "      <td>16</td>\n",
       "    </tr>\n",
       "    <tr>\n",
       "      <th>4</th>\n",
       "      <td>0.0</td>\n",
       "      <td>0.051493</td>\n",
       "      <td>0.000000</td>\n",
       "      <td>0.0</td>\n",
       "      <td>0.0</td>\n",
       "      <td>0.0</td>\n",
       "      <td>0.0</td>\n",
       "      <td>0.0</td>\n",
       "      <td>0.0</td>\n",
       "      <td>0.0</td>\n",
       "      <td>...</td>\n",
       "      <td>0</td>\n",
       "      <td>0</td>\n",
       "      <td>0</td>\n",
       "      <td>0</td>\n",
       "      <td>0</td>\n",
       "      <td>0</td>\n",
       "      <td>1</td>\n",
       "      <td>0</td>\n",
       "      <td>0</td>\n",
       "      <td>17</td>\n",
       "    </tr>\n",
       "  </tbody>\n",
       "</table>\n",
       "<p>5 rows × 524 columns</p>\n",
       "</div>"
      ],
      "text/plain": [
       "     0         1         2    3    4    5    6    7    8    9   ...     \\\n",
       "0  0.0  0.000000  0.000000  0.0  0.0  0.0  0.0  0.0  0.0  0.0   ...      \n",
       "1  0.0  0.000000  0.000000  0.0  0.0  0.0  0.0  0.0  0.0  0.0   ...      \n",
       "2  0.0  0.137815  0.042591  0.0  0.0  0.0  0.0  0.0  0.0  0.0   ...      \n",
       "3  0.0  0.141130  0.000000  0.0  0.0  0.0  0.0  0.0  0.0  0.0   ...      \n",
       "4  0.0  0.051493  0.000000  0.0  0.0  0.0  0.0  0.0  0.0  0.0   ...      \n",
       "\n",
       "   tag_javascript  tag_jquery  tag_mysql  tag_objective-c  tag_other  tag_php  \\\n",
       "0               0           0          0                0          0        0   \n",
       "1               0           0          0                0          0        0   \n",
       "2               0           0          0                0          0        0   \n",
       "3               0           0          0                0          0        1   \n",
       "4               0           0          0                0          0        0   \n",
       "\n",
       "   tag_python  tag_ruby-on-rails  tag_sql  maintag  \n",
       "0           0                  0        0        5  \n",
       "1           0                  0        1       19  \n",
       "2           0                  1        0       18  \n",
       "3           0                  0        0       16  \n",
       "4           1                  0        0       17  \n",
       "\n",
       "[5 rows x 524 columns]"
      ]
     },
     "execution_count": 62,
     "metadata": {},
     "output_type": "execute_result"
    }
   ],
   "source": [
    "dataframe_test.head(5)"
   ]
  },
  {
   "cell_type": "code",
   "execution_count": 46,
   "metadata": {},
   "outputs": [],
   "source": [
    "dataframe_train.to_csv(\"dataframe_train.csv\")\n",
    "dataframe_test.to_csv(\"dataframe_test.csv\")"
   ]
  },
  {
   "cell_type": "markdown",
   "metadata": {},
   "source": [
    "# Feature importance"
   ]
  },
  {
   "cell_type": "code",
   "execution_count": 47,
   "metadata": {},
   "outputs": [
    {
     "data": {
      "text/plain": [
       "Text(0.5,0,'Relative Importance')"
      ]
     },
     "execution_count": 47,
     "metadata": {},
     "output_type": "execute_result"
    },
    {
     "data": {
      "image/png": "[encoded data removed]",
      "text/plain": [
       "<matplotlib.figure.Figure at 0x7f1cd013b8d0>"
      ]
     },
     "metadata": {
      "needs_background": "light"
     },
     "output_type": "display_data"
    }
   ],
   "source": [
    "importances = model_2.feature_importances_\n",
    "indices = np.argsort(importances)\n",
    "\n",
    "plt.figure(1)\n",
    "plt.title('Feature Importances')\n",
    "plt.barh(range(len(indices)), importances[indices], color='b', align='center')\n",
    "plt.yticks(range(len(indices)), train_features[indices])\n",
    "plt.xlabel('Relative Importance')"
   ]
  },
  {
   "cell_type": "code",
   "execution_count": 48,
   "metadata": {},
   "outputs": [],
   "source": [
    "importances={k: v for v, k in enumerate(importances)}\n",
    "importances = dict([(value, key) for key, value in importances.items()]) "
   ]
  },
  {
   "cell_type": "code",
   "execution_count": 63,
   "metadata": {},
   "outputs": [],
   "source": [
    "#importances"
   ]
  },
  {
   "cell_type": "code",
   "execution_count": 50,
   "metadata": {},
   "outputs": [],
   "source": [
    "text_dictn=tfidf_text.vocabulary_\n",
    "feature_dict=dict([(value, key) for key, value in text_dictn.items()]) "
   ]
  },
  {
   "cell_type": "code",
   "execution_count": 51,
   "metadata": {},
   "outputs": [],
   "source": [
    "def mergeDict(dict1, dict2):\n",
    "   ''' Merge dictionaries and keep values of common keys in list'''\n",
    "   dict3 = {**dict1, **dict2}\n",
    "   for key, value in dict3.items():\n",
    "       if key in dict1 and key in dict2:\n",
    "               dict3[key] = [value , dict1[key]]\n",
    " \n",
    "   return dict3"
   ]
  },
  {
   "cell_type": "code",
   "execution_count": 64,
   "metadata": {},
   "outputs": [],
   "source": [
    "final_dict=mergeDict(importances, feature_dict)\n",
    "#final_dict"
   ]
  },
  {
   "cell_type": "code",
   "execution_count": 53,
   "metadata": {},
   "outputs": [],
   "source": [
    "rem_list = [500, 501, 502] \n",
    "res = dict([(key, val) for key, val in \n",
    "           final_dict.items() if key not in rem_list]) "
   ]
  },
  {
   "cell_type": "code",
   "execution_count": 54,
   "metadata": {},
   "outputs": [],
   "source": [
    "listofTuples = sorted(res.items() , reverse=True, key=lambda x: x[1][1])"
   ]
  },
  {
   "cell_type": "code",
   "execution_count": 65,
   "metadata": {
    "scrolled": true
   },
   "outputs": [
    {
     "data": {
      "text/plain": [
       "[(335, ['php', 0.025541244366672034]),\n",
       " (15, ['android', 0.0251754016533942]),\n",
       " (228, ['java', 0.022328838925643763]),\n",
       " (364, ['python', 0.019716219122454109]),\n",
       " (230, ['javascript', 0.01366245439274515]),\n",
       " (232, ['jqueri', 0.010289439672291208]),\n",
       " (64, ['code', 0.010217482635865964]),\n",
       " (479, ['var', 0.0091607443963287443]),\n",
       " (159, ['function', 0.0089365318453914072]),\n",
       " (300, ['mysql', 0.0087370002888414438])]"
      ]
     },
     "execution_count": 65,
     "metadata": {},
     "output_type": "execute_result"
    }
   ],
   "source": [
    "listofTuples[0:10]"
   ]
  },
  {
   "cell_type": "code",
   "execution_count": 59,
   "metadata": {},
   "outputs": [],
   "source": [
    "with open(\"feature_importance.txt\", \"wb\") as fp:   #Pickling\n",
    "    pickle.dump(listofTuples, fp)"
   ]
  },
  {
   "cell_type": "code",
   "execution_count": 56,
   "metadata": {},
   "outputs": [],
   "source": [
    "pickle.dump(model_2, open('RF_model', 'wb'))"
   ]
  },
  {
   "cell_type": "code",
   "execution_count": null,
   "metadata": {},
   "outputs": [],
   "source": []
  },
  {
   "cell_type": "markdown",
   "metadata": {},
   "source": [
    "# Applying Xgboost on the dataset."
   ]
  },
  {
   "cell_type": "code",
   "execution_count": null,
   "metadata": {},
   "outputs": [],
   "source": [
    "import os\n",
    "os.environ['KMP_DUPLICATE_LIB_OK']='True'"
   ]
  },
  {
   "cell_type": "code",
   "execution_count": null,
   "metadata": {},
   "outputs": [],
   "source": [
    "eval_set = [(train_features, y_train),(val_features, y_val)]\n",
    "model_3 = XGBClassifier(learning_rate =0.1,n_estimators=100, max_depth=3,nthread=4,seed=27,objective=\"multi:softmax\",num_class=20)"
   ]
  },
  {
   "cell_type": "code",
   "execution_count": null,
   "metadata": {},
   "outputs": [],
   "source": [
    "# n_estimators = range(50, 400, 50)\n",
    "# param_grid = dict(n_estimators=n_estimators)\n",
    "# kfold = StratifiedKFold(n_splits scoring=\"neg_log_loss\", n_jobs=-1, cv=kfold)\n",
    "# result = grid_search.fit(X, label_encoded_y)"
   ]
  },
  {
   "cell_type": "code",
   "execution_count": null,
   "metadata": {
    "scrolled": true
   },
   "outputs": [],
   "source": [
    "model_3.fit(train_features,y_train, eval_set=eval_set)\n",
    "y_pred = model_3.predict(test_features)"
   ]
  },
  {
   "cell_type": "code",
   "execution_count": null,
   "metadata": {},
   "outputs": [],
   "source": [
    "print(classification_report(y_test, y_pred, target_names=label_encoder.classes_))"
   ]
  },
  {
   "cell_type": "code",
   "execution_count": null,
   "metadata": {
    "scrolled": true
   },
   "outputs": [],
   "source": [
    "print(confusion_matrix(y_test, y_pred))"
   ]
  },
  {
   "cell_type": "code",
   "execution_count": null,
   "metadata": {},
   "outputs": [],
   "source": [
    "eli5.explain_prediction_df(model_3,train_features.iloc[[20]],top_targets=2)"
   ]
  },
  {
   "cell_type": "code",
   "execution_count": null,
   "metadata": {},
   "outputs": [],
   "source": []
  },
  {
   "cell_type": "code",
   "execution_count": null,
   "metadata": {},
   "outputs": [],
   "source": []
  },
  {
   "cell_type": "code",
   "execution_count": null,
   "metadata": {},
   "outputs": [],
   "source": []
  },
  {
   "cell_type": "code",
   "execution_count": null,
   "metadata": {},
   "outputs": [],
   "source": []
  },
  {
   "cell_type": "code",
   "execution_count": null,
   "metadata": {},
   "outputs": [],
   "source": []
  }
 ],
 "metadata": {
  "kernelspec": {
   "display_name": "firstEnv",
   "language": "python",
   "name": "firstenv"
  },
  "language_info": {
   "codemirror_mode": {
    "name": "ipython",
    "version": 3
   },
   "file_extension": ".py",
   "mimetype": "text/x-python",
   "name": "python",
   "nbconvert_exporter": "python",
   "pygments_lexer": "ipython3",
   "version": "3.6.3"
  }
 },
 "nbformat": 4,
 "nbformat_minor": 4
}
